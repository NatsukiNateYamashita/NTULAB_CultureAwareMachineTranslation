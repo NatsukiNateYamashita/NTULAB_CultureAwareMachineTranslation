{
 "cells": [
  {
   "cell_type": "code",
   "execution_count": 29,
   "metadata": {},
   "outputs": [],
   "source": [
    "import csv\n",
    "import os\n",
    "import pandas as pd\n",
    "import sacrebleu\n",
    "import pyter\n",
    "import numpy as np\n",
    "def get_length(preds, truth):\n",
    "    preds_len = get_mean_len(preds)\n",
    "    truth_len = get_mean_len(truth)\n",
    "    return preds_len,truth_len\n",
    "    \n",
    "def get_mean_len(hyp):\n",
    "    length = 0\n",
    "    for row in hyp:\n",
    "        length+=len(row)\n",
    "    return length/len(hyp)\n",
    "    \n",
    "def get_scores(preds, truth):\n",
    "    preds_score = get_selfbleu(preds)\n",
    "    truth_score = get_selfbleu(truth)\n",
    "    return preds_score, truth_score\n",
    "\n",
    "def get_selfbleu(hyp):\n",
    "    self_bleu = 0\n",
    "    hyp_ = np.array(hyp)\n",
    "    for idx in range(len(hyp)):\n",
    "        rev_idx = np.arange(len(hyp))\n",
    "        # [True, True, True, True, False, True, False, True, True, True] を作れば良いという方針\n",
    "        bool_idx = np.ones(len(hyp), dtype=bool)\n",
    "        bool_idx[idx] = False\n",
    "        rev_idx = rev_idx[bool_idx]\n",
    "        for rev in rev_idx:\n",
    "            tmp_score = sacrebleu.sentence_bleu(hyp_[idx], [hyp_[rev]])\n",
    "            self_bleu += tmp_score.score\n",
    "    self_bleu /= len(hyp)*(len(hyp)-1)\n",
    "    return self_bleu\n",
    "\n",
    "def get_data_as_list(path):\n",
    "    data = []\n",
    "    with open(path, 'r', encoding='utf-8-sig')as f:\n",
    "        reader = csv.reader(f)\n",
    "        for row in reader:\n",
    "            data.append(row)\n",
    "    return data\n",
    "\n"
   ]
  },
  {
   "cell_type": "code",
   "execution_count": 38,
   "metadata": {},
   "outputs": [
    {
     "name": "stdout",
     "output_type": "stream",
     "text": [
      "[['ja', 'selfbleu', 37.85449511476157, 44.13366288819339], ['ja', 'length', 21.8875, 31.50625], ['zh', 'selfbleu', 20.573110022340515, 40.05867202166839], ['zh', 'length', 9.885057471264368, 13.798850574712644]]\n"
     ]
    }
   ],
   "source": [
    "ver_name = '000_translate_all_both_prefix_rel'\n",
    "context = 2\n",
    "lang_list = ['ja','zh']\n",
    "selfbleu_len = []\n",
    "for lang in lang_list:\n",
    "    f_name = f'{lang}_preds_truth.csv'\n",
    "    path = f'outputs/context/{ver_name}/{context}/{f_name}'\n",
    "    df = pd.read_csv(path, encoding='utf-8-sig')\n",
    "    generated_s,truth_s = get_scores(df[ver_name].to_list(),df['truth'].to_list())\n",
    "    generated_l,truth_l = get_length(df[ver_name].to_list(),df['truth'].to_list())\n",
    "    selfbleu_len.append([lang,'selfbleu',truth_s,generated_s])\n",
    "    selfbleu_len.append([lang,'length',generated_l,truth_l])\n",
    "\n",
    "    \n",
    "print(selfbleu_len)\n",
    "os.makedirs('for_thesis/selfbleu_len/',exist_ok=True)\n",
    "with open(f'for_thesis/selfbleu_len/{ver_name}_{context}.csv', 'w',encoding='utf-8-sig')as f:\n",
    "    writer = csv.writer(f)\n",
    "    writer.writerows(selfbleu_len)\n",
    "    "
   ]
  },
  {
   "cell_type": "code",
   "execution_count": 31,
   "metadata": {},
   "outputs": [
    {
     "name": "stdout",
     "output_type": "stream",
     "text": [
      "20.573110022340515 40.05867202166839\n",
      "9.885057471264368 13.798850574712644\n"
     ]
    }
   ],
   "source": []
  },
  {
   "cell_type": "code",
   "execution_count": null,
   "metadata": {},
   "outputs": [],
   "source": []
  }
 ],
 "metadata": {
  "kernelspec": {
   "display_name": "Python 3",
   "language": "python",
   "name": "python3"
  },
  "language_info": {
   "codemirror_mode": {
    "name": "ipython",
    "version": 3
   },
   "file_extension": ".py",
   "mimetype": "text/x-python",
   "name": "python",
   "nbconvert_exporter": "python",
   "pygments_lexer": "ipython3",
   "version": "3.7.6"
  }
 },
 "nbformat": 4,
 "nbformat_minor": 5
}
