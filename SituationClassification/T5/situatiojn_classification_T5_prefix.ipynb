{
 "cells": [
  {
   "cell_type": "code",
   "execution_count": 1,
   "metadata": {},
   "outputs": [],
   "source": [
    "import os\n",
    "import csv\n",
    "import random\n",
    "import numpy as np\n",
    "import pandas as pd\n",
    "corpus_list = ['cejc','mpdd']\n",
    "src_type = 'original'"
   ]
  },
  {
   "cell_type": "code",
   "execution_count": 2,
   "metadata": {},
   "outputs": [],
   "source": [
    "situation_list = ['apology','request','thanksgiving']\n",
    "negative_list = ['negative']\n",
    "\n",
    "if len(situation_list)>1:\n",
    "    class_type = 'multi'\n",
    "elif len(situation_list)==1:\n",
    "    class_type = 'binary'\n",
    "else:\n",
    "    import traceback\n",
    "    try:\n",
    "        raise Exception\n",
    "    except:\n",
    "        traceback.print_exc()\n",
    " \n",
    "sen_type_list = ['query','res']\n",
    "ver_name = f'001_{class_type}_all_all_prefix'\n",
    "sen_type_list = ['query']\n",
    "ver_name = f'011_{class_type}_all_query_prefix'\n",
    "sen_type_list = ['res']\n",
    "ver_name = f'021_{class_type}_all_res_prefix'\n",
    "\n",
    "situation_list = ['apology']\n",
    "negative_list = ['negative','request','thanksgiving']\n",
    "sen_type_list = ['query','res']\n",
    "ver_name = f'101_{class_type}_apology_all_prefix'\n",
    "sen_type_list = ['query']\n",
    "ver_name = f'111_{class_type}_apology_query_prefix'\n",
    "sen_type_list = ['res']\n",
    "ver_name = f'121_{class_type}_apology_res_prefix'\n",
    "\n",
    "situation_list = ['request']\n",
    "negative_list = ['negative','apology','thanksgiving']\n",
    "sen_type_list = ['query','res']\n",
    "ver_name = f'201_{class_type}_request_all_prefix'\n",
    "sen_type_list = ['query']\n",
    "ver_name = f'211_{class_type}_request_query_prefix'\n",
    "sen_type_list = ['res']\n",
    "ver_name = f'221_{class_type}_request_res_prefix'\n",
    "\n",
    "situation_list = ['request']\n",
    "negative_list = ['negative','apology','thanksgiving']\n",
    "sen_type_list = ['query','res']\n",
    "ver_name = f'301_{class_type}_thanksgiving_all_prefix'\n",
    "sen_type_list = ['query']\n",
    "ver_name = f'311_{class_type}_thanksgiving_query_prefix'\n",
    "sen_type_list = ['res']\n",
    "ver_name = f'321_{class_type}_thanksgiving_res_prefix'\n",
    "\n",
    "\n",
    "test_type_list = ['translated','rewrited']\n",
    "save_dir = f'outputs/situation_classification/{ver_name}/'"
   ]
  },
  {
   "cell_type": "code",
   "execution_count": 3,
   "metadata": {},
   "outputs": [],
   "source": [
    "def get_data_as_list(path):\n",
    "    data = []\n",
    "    with open(path, 'r', encoding='utf-8-sig')as f:\n",
    "        reader = csv.reader(f)\n",
    "        for row in reader:\n",
    "            data.append(row[0])\n",
    "    return data\n",
    "\n",
    "def get_df(corpus_list, situation_list, sen_type_list, src_type, train_type, class_type, positive=True):\n",
    "    target_text = []\n",
    "    input_text = []\n",
    "    prefix = []\n",
    "    for corpus in corpus_list:\n",
    "        for i, situation in enumerate(situation_list):\n",
    "            for sen_type in sen_type_list:\n",
    "                f_path = f'data/{corpus}/{situation}/{src_type}_{sen_type}_{train_type}'\n",
    "                tmp = get_data_as_list(f_path)\n",
    "                input_text += tmp\n",
    "                \n",
    "                if positive==True:                \n",
    "                    if class_type==\"multi\":\n",
    "                        target_text += [str(i+1)]*len(tmp)\n",
    "                    elif class_type==\"binary\":\n",
    "                        target_text += ['1']*len(tmp)\n",
    "                elif positive==False: \n",
    "                    target_text += ['0']*len(tmp)\n",
    "                else:\n",
    "                        try:\n",
    "                            raise Exception\n",
    "                        except:\n",
    "                            traceback.print_exc()\n",
    "                prefix += [f'{class_type} classification {corpus} {sen_type}']*len(get_data_as_list(f_path))\n",
    "                \n",
    "    df = pd.DataFrame([prefix,input_text,target_text], index=['prefix','input_text','target_text']).astype(str).T\n",
    "    return df"
   ]
  },
  {
   "cell_type": "markdown",
   "metadata": {},
   "source": [
    "# Finetune"
   ]
  },
  {
   "cell_type": "code",
   "execution_count": null,
   "metadata": {},
   "outputs": [],
   "source": [
    "import logging\n",
    "import pandas as pd\n",
    "from simpletransformers.t5 import T5Model, T5Args\n",
    "\n",
    "logging.basicConfig(level=logging.INFO)\n",
    "transformers_logger = logging.getLogger(\"transformers\")\n",
    "transformers_logger.setLevel(logging.WARNING)\n",
    "\n",
    "train_type = 'train'    \n",
    "train_df = get_df(corpus_list, situation_list, sen_type_list, src_type, train_type, class_type)\n",
    "train_neg_df = get_df(corpus_list, negative_list, sen_type_list, src_type, train_type, class_type, positive=False)\n",
    "train_neg_df = train_neg_df.sample(n=len(train_df), random_state=0)\n",
    "train_df= pd.concat([train_df,train_neg_df])\n",
    "\n",
    "train_type = 'val'  \n",
    "eval_df = get_df(corpus_list, situation_list, sen_type_list, src_type, train_type, class_type)\n",
    "eval_neg_df = get_df(corpus_list, negative_list, sen_type_list, src_type, train_type, class_type, positive=False)\n",
    "eval_neg_df = eval_neg_df.sample(n=len(eval_df), random_state=0)\n",
    "eval_df= pd.concat([eval_df,eval_neg_df]) \n",
    "\n",
    "# train_df[\"prefix\"] = f'{class_type} classification'\n",
    "# eval_df[\"prefix\"] = f'{class_type} classification'\n",
    "\n",
    "display(train_df.iloc[1000:1005])\n",
    "display(eval_df.iloc[100:105])"
   ]
  },
  {
   "cell_type": "code",
   "execution_count": null,
   "metadata": {},
   "outputs": [],
   "source": [
    "model_args = T5Args()\n",
    "\n",
    "model_args.max_seq_length = 128\n",
    "# model_args.length_penalty = 20\n",
    "model_args.train_batch_size = 4\n",
    "model_args.eval_batch_size = 4\n",
    "model_args.num_train_epochs = 20\n",
    "model_args.evaluate_during_training = True\n",
    "model_args.evaluate_during_training_steps = 500\n",
    "model_args.use_multiprocessing = False\n",
    "model_args.fp16 = False\n",
    "model_args.early_stopping_metric = 'eval_loss'\n",
    "model_args.early_stopping_metric_minimize = True\n",
    "model_args.early_stopping_patience = 3\n",
    "model_args.use_early_stopping = True\n",
    "model_args.save_eval_checkpoints = True\n",
    "model_args.save_eval_checkpoints = False\n",
    "model_args.learning_rate = 1e-5\n",
    "model_args.best_model_dir = save_dir+'best_model/'\n",
    "model_args.output_dir = save_dir+'ckpt/'\n",
    "model_args.save_model_every_epoch = True\n",
    "model_args.save_steps = -1\n",
    "model_args.no_cache = True\n",
    "model_args.reprocess_input_data = True\n",
    "model_args.overwrite_output_dir = True\n",
    "model_args.preprocess_inputs = False\n",
    "model_args.num_return_sequences = 1\n",
    "model_args.wandb_project = ver_name\n",
    "\n",
    "# model = T5Model(\"mt5\", \"google/mt5-base\", args=model_args)\n",
    "model = T5Model(\"mt5\", \"google/mt5-base\", args=model_args, cuda_device=0)\n",
    "# Train the model\n",
    "os.environ['WANDB_CONSOLE'] = 'off'\n",
    "model.train_model(train_df, eval_data=eval_df)"
   ]
  },
  {
   "cell_type": "markdown",
   "metadata": {},
   "source": [
    "# test"
   ]
  },
  {
   "cell_type": "code",
   "execution_count": 23,
   "metadata": {},
   "outputs": [],
   "source": [
    "# PLEASE COMMENT OUT WHEN YOU TRAIN AND TEST AT THE SAME TIME\n",
    "\n",
    "situation_list = ['apology','request','thanksgiving']\n",
    "negative_list = ['negative']\n",
    "\n",
    "if len(situation_list)>1:\n",
    "    class_type = 'multi'\n",
    "elif len(situation_list)==1:\n",
    "    class_type = 'binary'\n",
    "else:\n",
    "    import traceback\n",
    "    try:\n",
    "        raise Exception\n",
    "    except:\n",
    "        traceback.print_exc()\n",
    " \n",
    "# sen_type_list = ['query','res']\n",
    "# ver_name = f'002_{class_type}_all_all_prefix'\n",
    "# sen_type_list = ['query']\n",
    "# ver_name = f'012_{class_type}_all_query_prefix'\n",
    "# # sen_type_list = ['res']\n",
    "# # ver_name = f'021_{class_type}_all_res_prefix'\n",
    "\n",
    "situation_list = ['apology']\n",
    "negative_list = ['request','thanksgiving']\n",
    "sen_type_list = ['query','res']\n",
    "ver_name = f'101_{class_type}_apology_all_prefix'\n",
    "# sen_type_list = ['query']\n",
    "# ver_name = f'111_{class_type}_apology_query_prefix'\n",
    "# sen_type_list = ['res']\n",
    "# ver_name = f'121_{class_type}_apology_res_prefix'\n",
    "\n",
    "# situation_list = ['request']\n",
    "# negative_list = ['apology','thanksgiving']\n",
    "# sen_type_list = ['query','res']\n",
    "# ver_name = f'201_{class_type}_request_all_prefix'\n",
    "# sen_type_list = ['query']\n",
    "# ver_name = f'211_{class_type}_request_query_prefix'\n",
    "# sen_type_list = ['res']\n",
    "# ver_name = f'221_{class_type}_request_res_prefix'\n",
    "\n",
    "# situation_list = ['request']\n",
    "# negative_list = ['apology','thanksgiving']\n",
    "# sen_type_list = ['query','res']\n",
    "# ver_name = f'301_{class_type}_thanksgiving_all_prefix'\n",
    "# sen_type_list = ['query']\n",
    "# ver_name = f'311_{class_type}_thanksgiving_query_prefix'\n",
    "# sen_type_list = ['res']\n",
    "# ver_name = f'321_{class_type}_thanksgiving_res_prefix'\n",
    "\n",
    "\n",
    "test_type_list = ['translated','rewrited']\n",
    "save_dir = f'outputs/situation_classification/{ver_name}/'"
   ]
  },
  {
   "cell_type": "code",
   "execution_count": 24,
   "metadata": {},
   "outputs": [
    {
     "data": {
      "application/vnd.jupyter.widget-view+json": {
       "model_id": "c68bc04a91254973b6019e0c74f5d971",
       "version_major": 2,
       "version_minor": 0
      },
      "text/plain": [
       "HBox(children=(FloatProgress(value=0.0, description='Generating outputs', max=12.0, style=ProgressStyle(descri…"
      ]
     },
     "metadata": {},
     "output_type": "display_data"
    },
    {
     "name": "stdout",
     "output_type": "stream",
     "text": [
      "\n"
     ]
    },
    {
     "data": {
      "application/vnd.jupyter.widget-view+json": {
       "model_id": "920642e6f2a443ca8829ff10947aba62",
       "version_major": 2,
       "version_minor": 0
      },
      "text/plain": [
       "HBox(children=(FloatProgress(value=0.0, description='Decoding outputs', max=94.0, style=ProgressStyle(descript…"
      ]
     },
     "metadata": {},
     "output_type": "display_data"
    },
    {
     "name": "stdout",
     "output_type": "stream",
     "text": [
      "\n"
     ]
    },
    {
     "data": {
      "application/vnd.jupyter.widget-view+json": {
       "model_id": "2326717c76c148c3be5b2ae0c8309e55",
       "version_major": 2,
       "version_minor": 0
      },
      "text/plain": [
       "HBox(children=(FloatProgress(value=0.0, description='Generating outputs', max=17.0, style=ProgressStyle(descri…"
      ]
     },
     "metadata": {},
     "output_type": "display_data"
    },
    {
     "name": "stdout",
     "output_type": "stream",
     "text": [
      "\n"
     ]
    },
    {
     "data": {
      "application/vnd.jupyter.widget-view+json": {
       "model_id": "09d0e272600c4e03ba6eea4f34341458",
       "version_major": 2,
       "version_minor": 0
      },
      "text/plain": [
       "HBox(children=(FloatProgress(value=0.0, description='Decoding outputs', max=130.0, style=ProgressStyle(descrip…"
      ]
     },
     "metadata": {},
     "output_type": "display_data"
    },
    {
     "name": "stdout",
     "output_type": "stream",
     "text": [
      "\n"
     ]
    },
    {
     "data": {
      "application/vnd.jupyter.widget-view+json": {
       "model_id": "1c87a617c7b34488ab39714864cad187",
       "version_major": 2,
       "version_minor": 0
      },
      "text/plain": [
       "HBox(children=(FloatProgress(value=0.0, description='Generating outputs', max=12.0, style=ProgressStyle(descri…"
      ]
     },
     "metadata": {},
     "output_type": "display_data"
    },
    {
     "name": "stdout",
     "output_type": "stream",
     "text": [
      "\n"
     ]
    },
    {
     "data": {
      "application/vnd.jupyter.widget-view+json": {
       "model_id": "b35e911fc02246ccbf6a5674337d597e",
       "version_major": 2,
       "version_minor": 0
      },
      "text/plain": [
       "HBox(children=(FloatProgress(value=0.0, description='Decoding outputs', max=94.0, style=ProgressStyle(descript…"
      ]
     },
     "metadata": {},
     "output_type": "display_data"
    },
    {
     "name": "stdout",
     "output_type": "stream",
     "text": [
      "\n"
     ]
    },
    {
     "data": {
      "application/vnd.jupyter.widget-view+json": {
       "model_id": "0dfbc2999a4e47419565c8f77e582d77",
       "version_major": 2,
       "version_minor": 0
      },
      "text/plain": [
       "HBox(children=(FloatProgress(value=0.0, description='Generating outputs', max=17.0, style=ProgressStyle(descri…"
      ]
     },
     "metadata": {},
     "output_type": "display_data"
    },
    {
     "name": "stdout",
     "output_type": "stream",
     "text": [
      "\n"
     ]
    },
    {
     "data": {
      "application/vnd.jupyter.widget-view+json": {
       "model_id": "9264411edaf144dabeb2ea7638dd2d04",
       "version_major": 2,
       "version_minor": 0
      },
      "text/plain": [
       "HBox(children=(FloatProgress(value=0.0, description='Decoding outputs', max=130.0, style=ProgressStyle(descrip…"
      ]
     },
     "metadata": {},
     "output_type": "display_data"
    },
    {
     "name": "stdout",
     "output_type": "stream",
     "text": [
      "\n"
     ]
    },
    {
     "data": {
      "application/vnd.jupyter.widget-view+json": {
       "model_id": "c1fdfca4c1ed48ee89bc65931651395c",
       "version_major": 2,
       "version_minor": 0
      },
      "text/plain": [
       "HBox(children=(FloatProgress(value=0.0, description='Generating outputs', max=12.0, style=ProgressStyle(descri…"
      ]
     },
     "metadata": {},
     "output_type": "display_data"
    },
    {
     "name": "stdout",
     "output_type": "stream",
     "text": [
      "\n"
     ]
    },
    {
     "data": {
      "application/vnd.jupyter.widget-view+json": {
       "model_id": "8f7a8616d14847d88502780f0a41e64d",
       "version_major": 2,
       "version_minor": 0
      },
      "text/plain": [
       "HBox(children=(FloatProgress(value=0.0, description='Decoding outputs', max=94.0, style=ProgressStyle(descript…"
      ]
     },
     "metadata": {},
     "output_type": "display_data"
    },
    {
     "name": "stdout",
     "output_type": "stream",
     "text": [
      "\n"
     ]
    },
    {
     "data": {
      "application/vnd.jupyter.widget-view+json": {
       "model_id": "ebc755a55c0b4b99a57dfda20682e14c",
       "version_major": 2,
       "version_minor": 0
      },
      "text/plain": [
       "HBox(children=(FloatProgress(value=0.0, description='Generating outputs', max=17.0, style=ProgressStyle(descri…"
      ]
     },
     "metadata": {},
     "output_type": "display_data"
    },
    {
     "name": "stdout",
     "output_type": "stream",
     "text": [
      "\n"
     ]
    },
    {
     "data": {
      "application/vnd.jupyter.widget-view+json": {
       "model_id": "a499b642c89e47eba9a303b3de5ecb1a",
       "version_major": 2,
       "version_minor": 0
      },
      "text/plain": [
       "HBox(children=(FloatProgress(value=0.0, description='Decoding outputs', max=130.0, style=ProgressStyle(descrip…"
      ]
     },
     "metadata": {},
     "output_type": "display_data"
    },
    {
     "name": "stdout",
     "output_type": "stream",
     "text": [
      "\n"
     ]
    }
   ],
   "source": [
    "\n",
    "import logging\n",
    "import sacrebleu\n",
    "import pandas as pd\n",
    "from simpletransformers.t5 import T5Model, T5Args\n",
    "\n",
    "test_type_list = ['original','translated','rewrited']\n",
    "for src_type in test_type_list:\n",
    "    train_type = 'test'  \n",
    "    eval_df = get_df(corpus_list, situation_list, sen_type_list, src_type, train_type, class_type)\n",
    "    eval_neg_df = get_df(corpus_list, negative_list, sen_type_list, src_type, train_type, class_type, positive=False)\n",
    "    eval_neg_df = eval_neg_df.sample(n=len(eval_df), random_state=0)\n",
    "    eval_df= pd.concat([eval_df,eval_neg_df]) \n",
    "    # eval_df= pd.concat([eval_df,eval_neg_df])\n",
    "\n",
    "    to_ja_truth = eval_df.loc[eval_df[\"prefix\"].str.contains(\"mpdd\")][\"target_text\"].tolist()\n",
    "    to_ja_input = eval_df.loc[eval_df[\"prefix\"].str.contains(\"mpdd\")][\"input_text\"].tolist()\n",
    "    to_ja_prefix = eval_df.loc[eval_df[\"prefix\"].str.contains(\"mpdd\")][\"prefix\"].tolist()\n",
    "\n",
    "    to_zh_truth = eval_df.loc[eval_df[\"prefix\"].str.contains(\"cejc\")][\"target_text\"].tolist()\n",
    "    to_zh_input = eval_df.loc[eval_df[\"prefix\"].str.contains(\"cejc\")][\"input_text\"].tolist()\n",
    "    to_zh_prefix = eval_df.loc[eval_df[\"prefix\"].str.contains(\"cejc\")][\"prefix\"].tolist()\n",
    "\n",
    "#     to_ja_input = [f\"{class_type} classification: \" + input_text for input_text in to_ja_input]\n",
    "#     to_zh_input = [f\"{class_type} classification: \" + input_text for input_text in to_zh_input]\n",
    "    to_ja_input = [prefix + \": \" + input_text for prefix, input_text in zip(to_ja_prefix, to_ja_input)]\n",
    "    to_zh_input = [prefix + \": \" + input_text for prefix, input_text in zip(to_zh_prefix, to_zh_input)]\n",
    "    # to_zh_input[:5]\n",
    "    logging.basicConfig(level=logging.INFO)\n",
    "    transformers_logger = logging.getLogger(\"transformers\")\n",
    "    transformers_logger.setLevel(logging.WARNING)\n",
    "\n",
    "    model_args = T5Args()\n",
    "    model_args.max_length = 128\n",
    "    # model_args.length_penalty = 20\n",
    "    # model_args.num_beams = 10\n",
    "\n",
    "    model = T5Model(\"mt5\", save_dir+\"best_model/\", args=model_args, cuda_device=0)\n",
    "    \n",
    "    to_ja_preds = model.predict(to_ja_input)\n",
    "    to_zh_preds = model.predict(to_zh_input)\n",
    "    \n",
    "    os.makedirs(save_dir+f'{src_type}/',exist_ok=True)\n",
    "    \n",
    "    r_ja_df = pd.DataFrame([to_ja_preds,to_ja_truth],index=[f'{ver_name}', 'truth'])\n",
    "    r_ja_df.T.to_csv(save_dir+f'{src_type}/ja_preds_truth.csv',encoding='utf_8_sig')\n",
    "\n",
    "    r_zh_df = pd.DataFrame([to_zh_preds,to_zh_truth],index=[f'{ver_name}', 'truth'])\n",
    "    r_zh_df.T.to_csv(save_dir+f'{src_type}/zh_preds_truth.csv',encoding='utf_8_sig')"
   ]
  },
  {
   "cell_type": "code",
   "execution_count": null,
   "metadata": {},
   "outputs": [],
   "source": []
  },
  {
   "cell_type": "code",
   "execution_count": null,
   "metadata": {},
   "outputs": [],
   "source": []
  },
  {
   "cell_type": "code",
   "execution_count": null,
   "metadata": {},
   "outputs": [],
   "source": []
  }
 ],
 "metadata": {
  "kernelspec": {
   "display_name": "Python 3",
   "language": "python",
   "name": "python3"
  },
  "language_info": {
   "codemirror_mode": {
    "name": "ipython",
    "version": 3
   },
   "file_extension": ".py",
   "mimetype": "text/x-python",
   "name": "python",
   "nbconvert_exporter": "python",
   "pygments_lexer": "ipython3",
   "version": "3.9.2"
  }
 },
 "nbformat": 4,
 "nbformat_minor": 4
}
