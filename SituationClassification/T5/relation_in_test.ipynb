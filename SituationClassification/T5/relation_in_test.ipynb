{
 "cells": [
  {
   "cell_type": "code",
   "execution_count": 6,
   "metadata": {},
   "outputs": [
    {
     "name": "stdout",
     "output_type": "stream",
     "text": [
      "{'friend': 4, 'stranger': 1, 'couple': 2, 'other superior': 2, 'brothers and sisters': 1, 'consignor': 1, 'child': 1, 'spouse': 1, 'colleague': 1}\n",
      "{'friend': 14, 'boss': 4, 'consignee': 3, 'couple': 2, 'subordinate': 5, 'colleague': 3, 'enemy': 1, 'spouse': 3, 'brothers and sisters': 1, 'grandparent': 1, 'student': 1, 'other peer': 1, 'parent': 1, 'other inferior': 1, 'classmate': 2, 'parent-in-law': 1}\n",
      "{'friend': 6, 'parent': 2, 'spouse': 1, 'consignor': 2, 'other inferior': 2, 'subordinate': 2, 'colleague': 3, 'other superior': 1, 'couple': 1, 'enemy': 1, 'other peer': 1}\n",
      "{'consignor': 4, 'consignee': 5, 'friend': 16, 'partner': 3, 'parent': 4, 'parent-in-law': 1, 'child': 3, 'colleague': 1, 'son/daughter-in-law': 1, 'other peer': 1, 'unknown': 1, 'brothers and sisters': 1, 'student': 1}\n",
      "{'friend': 4, 'classmate': 1, 'partner': 2, 'spouse': 1, 'child': 1}\n",
      "{'friend': 14, 'student': 1, 'consignee': 4, 'consignor': 2, 'partner': 3, 'spouse': 3, 'child': 2, 'parent': 2, 'colleague': 4, 'brothers and sisters': 1}\n"
     ]
    }
   ],
   "source": [
    "import pandas\n",
    "import csv\n",
    "import collections\n",
    "\n",
    "\n",
    "def num_unique(relation_list):\n",
    "    count = collections.Counter(relation_list)\n",
    "    return dict(count)\n",
    "\n",
    "corpus_list = ['mpdd','cejc']\n",
    "# situation_list = ['apology','request','thanksgiving','negative']\n",
    "situation_list = ['apology','request','thanksgiving']\n",
    "\n",
    "train_type = 'test'\n",
    "for corpus in corpus_list:\n",
    "    for situation in situation_list:\n",
    "        rel_path = f'data/{corpus}/{situation}/relation_pair_{train_type}'\n",
    "        relation_query = []\n",
    "        relation_res = []\n",
    "        with open(rel_path, 'r', encoding='utf-8-sig')as f:\n",
    "            reader = csv.reader(f)\n",
    "            for row in reader:\n",
    "                relation_query.append(row[0])\n",
    "                relation_res.append(row[1])\n",
    "            query = num_unique(relation_query)\n",
    "            res = num_unique(relation_res)\n",
    "            print(query)\n",
    "                \n",
    "            \n",
    "            \n",
    "            \n"
   ]
  },
  {
   "cell_type": "code",
   "execution_count": null,
   "metadata": {},
   "outputs": [],
   "source": []
  }
 ],
 "metadata": {
  "kernelspec": {
   "display_name": "Python 3",
   "language": "python",
   "name": "python3"
  },
  "language_info": {
   "codemirror_mode": {
    "name": "ipython",
    "version": 3
   },
   "file_extension": ".py",
   "mimetype": "text/x-python",
   "name": "python",
   "nbconvert_exporter": "python",
   "pygments_lexer": "ipython3",
   "version": "3.7.6"
  }
 },
 "nbformat": 4,
 "nbformat_minor": 4
}
